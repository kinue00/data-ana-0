{
 "cells": [
  {
   "cell_type": "markdown",
   "id": "54e8112a-4e05-466f-85f8-ca6a2be9eaf8",
   "metadata": {},
   "source": [
    "## Set Up\n",
    "- Create a (virtual) development environment to make Python version and packages manageable.  \n",
    "- Import public datasets from Bigquery."
   ]
  },
  {
   "cell_type": "markdown",
   "id": "1829ad6d-183f-4b80-af54-8f23833e6e04",
   "metadata": {},
   "source": [
    "### Miniconda\n",
    "Download Miniconda installer from the official site [Anaconda](https://www.anaconda.com/download).   \n",
    "Use Miniconda command prompt to create/activate a new environment specifying Python version and packages to install. \n",
    "\n",
    "**Name the environment and choose a Python version.**  \n",
    "`conda create -n my_env python=3.11`      \n",
    "**List all created environments.**   \n",
    "`conda env list`  \n",
    "**Activate an environment by name.**  \n",
    "`conda activate my_env`  \n",
    "**Install essential packages for data analysis.**\n",
    "```bash\n",
    "conda install -c conda-forge \\\n",
    "  notebook \\\n",
    "  pandas \\\n",
    "  numpy \\\n",
    "  matplotlib \\\n",
    "  seaborn \\\n",
    "  scipy \\\n",
    "  scikit-learn\n",
    "```\n",
    "- Jupyter Notebook: `notebook`\n",
    "- Data process & numeric operation: `pandas`, `numpy`\n",
    "- Visulization: `matplotlib`, `seaborn`\n",
    "- Statistics: `scipy`\n",
    "- Machine learning: `scikit-learn`\n",
    "\n",
    "**List all packages installed(dependencies not included) in the current environment**  \n",
    "`conda env export --from-history`\n",
    "\n",
    "**Add the environment as a Jupyter kernel**  \n",
    "Install the IPython kernel package and register your environment as a Jupyter Notebook kernel.\n",
    "```\n",
    "conda install ipykernel\n",
    "python -m ipykernel install --user --name my_env --display-name \"Python (my_env)\"\n",
    "\n",
    "```\n",
    "**Launch Jupyter notebook**  \n",
    "`jupyter notebook`  \n",
    "Select the desired kernel in Jupyter notebook interface."
   ]
  },
  {
   "cell_type": "code",
   "execution_count": 4,
   "id": "9852ce5f-7ead-45cb-a046-2e4515503c0a",
   "metadata": {},
   "outputs": [
    {
     "name": "stdout",
     "output_type": "stream",
     "text": [
      "\n",
      "# conda environments:\n",
      "#\n",
      "base                   /opt/miniconda3\n",
      "my_env               * /opt/miniconda3/envs/my_env\n",
      "\n",
      "\n",
      "Note: you may need to restart the kernel to use updated packages.\n"
     ]
    }
   ],
   "source": [
    "conda env list"
   ]
  },
  {
   "cell_type": "markdown",
   "id": "7f9534fc-d480-4cd4-b90f-8afcd7240170",
   "metadata": {},
   "source": [
    "### Connect to Bigquery\n",
    "Install gcloud CLI with [offical guide](https://cloud.google.com/sdk/docs/install)(system-wide) and set up a project(to authorize the use of public datasets from Bigquery).  \n",
    "Install and use `bigframe` package to import [New York Citi Bike dataset](https://console.cloud.google.com/marketplace/product/city-of-new-york/nyc-citi-bike?hl=en&inv=1&invt=AbxWgg) from Bigquery.  \n",
    "\n",
    "**Create a new project in gcloud.**  \n",
    "`gcloud projects create data-ana-0`  \n",
    "**List all available projects.**  \n",
    "`gcloud projects list`  \n",
    "**Initialize a project.**  \n",
    "`gcloud init`  \n",
    "Confirm conversations from CLI.\n",
    "\n",
    "**Install bigframe via conda.**  \n",
    "`conda install conda-forge::bigframes`  \n",
    "Need to restart the kernel."
   ]
  },
  {
   "cell_type": "code",
   "execution_count": 4,
   "id": "11e57c2f-514e-4573-a01d-2e3f032028a8",
   "metadata": {},
   "outputs": [
    {
     "data": {
      "text/html": [
       "Query job 3316ba6b-f510-4ea1-aebe-12604d2cc7a3 is DONE. 4.9 GB processed. <a target=\"_blank\" href=\"https://console.cloud.google.com/bigquery?project=data-ana-0&j=bq:US:3316ba6b-f510-4ea1-aebe-12604d2cc7a3&page=queryresults\">Open Job</a>"
      ],
      "text/plain": [
       "<IPython.core.display.HTML object>"
      ]
     },
     "metadata": {},
     "output_type": "display_data"
    },
    {
     "data": {
      "text/html": [
       "Query job 368f204b-9bf7-41e0-a7bb-888953d69aec is DONE. 142.3 kB processed. <a target=\"_blank\" href=\"https://console.cloud.google.com/bigquery?project=data-ana-0&j=bq:US:368f204b-9bf7-41e0-a7bb-888953d69aec&page=queryresults\">Open Job</a>"
      ],
      "text/plain": [
       "<IPython.core.display.HTML object>"
      ]
     },
     "metadata": {},
     "output_type": "display_data"
    },
    {
     "data": {
      "text/html": [
       "<div>\n",
       "<style scoped>\n",
       "    .dataframe tbody tr th:only-of-type {\n",
       "        vertical-align: middle;\n",
       "    }\n",
       "\n",
       "    .dataframe tbody tr th {\n",
       "        vertical-align: top;\n",
       "    }\n",
       "\n",
       "    .dataframe thead th {\n",
       "        text-align: right;\n",
       "    }\n",
       "</style>\n",
       "<table border=\"1\" class=\"dataframe\">\n",
       "  <thead>\n",
       "    <tr style=\"text-align: right;\">\n",
       "      <th></th>\n",
       "      <th>tripduration</th>\n",
       "      <th>starttime</th>\n",
       "      <th>stoptime</th>\n",
       "      <th>start_station_id</th>\n",
       "      <th>start_station_name</th>\n",
       "      <th>start_station_latitude</th>\n",
       "      <th>start_station_longitude</th>\n",
       "      <th>end_station_id</th>\n",
       "      <th>end_station_name</th>\n",
       "      <th>end_station_latitude</th>\n",
       "      <th>end_station_longitude</th>\n",
       "      <th>bikeid</th>\n",
       "      <th>usertype</th>\n",
       "      <th>birth_year</th>\n",
       "      <th>gender</th>\n",
       "    </tr>\n",
       "  </thead>\n",
       "  <tbody>\n",
       "    <tr>\n",
       "      <th>0</th>\n",
       "      <td>405</td>\n",
       "      <td>2016-08-04 08:07:33+00:00</td>\n",
       "      <td>2016-08-04 08:14:18+00:00</td>\n",
       "      <td>520</td>\n",
       "      <td>W 52 St &amp; 5 Ave</td>\n",
       "      <td>40.759923</td>\n",
       "      <td>-73.976485</td>\n",
       "      <td>305</td>\n",
       "      <td>E 58 St &amp; 3 Ave</td>\n",
       "      <td>40.760958</td>\n",
       "      <td>-73.967245</td>\n",
       "      <td>17789</td>\n",
       "      <td>Subscriber</td>\n",
       "      <td>1973</td>\n",
       "      <td>male</td>\n",
       "    </tr>\n",
       "    <tr>\n",
       "      <th>1</th>\n",
       "      <td>1018</td>\n",
       "      <td>2013-07-11 14:14:05+00:00</td>\n",
       "      <td>2013-07-11 14:31:03+00:00</td>\n",
       "      <td>520</td>\n",
       "      <td>W 52 St &amp; 5 Ave</td>\n",
       "      <td>40.759923</td>\n",
       "      <td>-73.976485</td>\n",
       "      <td>442</td>\n",
       "      <td>W 27 St &amp; 7 Ave</td>\n",
       "      <td>40.746647</td>\n",
       "      <td>-73.993915</td>\n",
       "      <td>19159</td>\n",
       "      <td>Subscriber</td>\n",
       "      <td>1967</td>\n",
       "      <td>female</td>\n",
       "    </tr>\n",
       "    <tr>\n",
       "      <th>2</th>\n",
       "      <td>2080</td>\n",
       "      <td>2016-09-09 17:35:27+00:00</td>\n",
       "      <td>2016-09-09 18:10:08+00:00</td>\n",
       "      <td>520</td>\n",
       "      <td>W 52 St &amp; 5 Ave</td>\n",
       "      <td>40.759923</td>\n",
       "      <td>-73.976485</td>\n",
       "      <td>415</td>\n",
       "      <td>Pearl St &amp; Hanover Square</td>\n",
       "      <td>40.704718</td>\n",
       "      <td>-74.00926</td>\n",
       "      <td>22270</td>\n",
       "      <td>Subscriber</td>\n",
       "      <td>1988</td>\n",
       "      <td>male</td>\n",
       "    </tr>\n",
       "    <tr>\n",
       "      <th>3</th>\n",
       "      <td>659</td>\n",
       "      <td>2013-10-28 16:44:28+00:00</td>\n",
       "      <td>2013-10-28 16:55:27+00:00</td>\n",
       "      <td>520</td>\n",
       "      <td>W 52 St &amp; 5 Ave</td>\n",
       "      <td>40.759923</td>\n",
       "      <td>-73.976485</td>\n",
       "      <td>285</td>\n",
       "      <td>Broadway &amp; E 14 St</td>\n",
       "      <td>40.734546</td>\n",
       "      <td>-73.990741</td>\n",
       "      <td>15775</td>\n",
       "      <td>Subscriber</td>\n",
       "      <td>1995</td>\n",
       "      <td>female</td>\n",
       "    </tr>\n",
       "    <tr>\n",
       "      <th>4</th>\n",
       "      <td>718</td>\n",
       "      <td>2016-08-07 17:46:03+00:00</td>\n",
       "      <td>2016-08-07 17:58:01+00:00</td>\n",
       "      <td>520</td>\n",
       "      <td>W 52 St &amp; 5 Ave</td>\n",
       "      <td>40.759923</td>\n",
       "      <td>-73.976485</td>\n",
       "      <td>492</td>\n",
       "      <td>W 33 St &amp; 7 Ave</td>\n",
       "      <td>40.7502</td>\n",
       "      <td>-73.990931</td>\n",
       "      <td>20344</td>\n",
       "      <td>Subscriber</td>\n",
       "      <td>1966</td>\n",
       "      <td>female</td>\n",
       "    </tr>\n",
       "  </tbody>\n",
       "</table>\n",
       "<p>5 rows × 15 columns</p>\n",
       "</div>[5 rows x 15 columns in total]"
      ],
      "text/plain": [
       "   tripduration                  starttime                   stoptime  \\\n",
       "0           405  2016-08-04 08:07:33+00:00  2016-08-04 08:14:18+00:00   \n",
       "1          1018  2013-07-11 14:14:05+00:00  2013-07-11 14:31:03+00:00   \n",
       "2          2080  2016-09-09 17:35:27+00:00  2016-09-09 18:10:08+00:00   \n",
       "3           659  2013-10-28 16:44:28+00:00  2013-10-28 16:55:27+00:00   \n",
       "4           718  2016-08-07 17:46:03+00:00  2016-08-07 17:58:01+00:00   \n",
       "\n",
       "   start_station_id start_station_name  start_station_latitude  \\\n",
       "0               520    W 52 St & 5 Ave               40.759923   \n",
       "1               520    W 52 St & 5 Ave               40.759923   \n",
       "2               520    W 52 St & 5 Ave               40.759923   \n",
       "3               520    W 52 St & 5 Ave               40.759923   \n",
       "4               520    W 52 St & 5 Ave               40.759923   \n",
       "\n",
       "   start_station_longitude  end_station_id           end_station_name  \\\n",
       "0               -73.976485             305            E 58 St & 3 Ave   \n",
       "1               -73.976485             442            W 27 St & 7 Ave   \n",
       "2               -73.976485             415  Pearl St & Hanover Square   \n",
       "3               -73.976485             285         Broadway & E 14 St   \n",
       "4               -73.976485             492            W 33 St & 7 Ave   \n",
       "\n",
       "   end_station_latitude  end_station_longitude  bikeid    usertype  \\\n",
       "0             40.760958             -73.967245   17789  Subscriber   \n",
       "1             40.746647             -73.993915   19159  Subscriber   \n",
       "2             40.704718              -74.00926   22270  Subscriber   \n",
       "3             40.734546             -73.990741   15775  Subscriber   \n",
       "4               40.7502             -73.990931   20344  Subscriber   \n",
       "\n",
       "   birth_year  gender  \n",
       "0        1973    male  \n",
       "1        1967  female  \n",
       "2        1988    male  \n",
       "3        1995  female  \n",
       "4        1966  female  \n",
       "\n",
       "[5 rows x 15 columns]"
      ]
     },
     "execution_count": 4,
     "metadata": {},
     "output_type": "execute_result"
    }
   ],
   "source": [
    "import bigframes.pandas as bpd\n",
    "\n",
    "PROJECT_ID = \"data-ana-0\"\n",
    "bpd.options.bigquery.project = PROJECT_ID\n",
    "\n",
    "sql_query = \"\"\"\n",
    "SELECT * \n",
    "FROM `bigquery-public-data.new_york.citibike_trips`\n",
    "LIMIT 1000\n",
    "\"\"\"\n",
    "\n",
    "df = bpd.read_gbq(sql_query)\n",
    "df.head()"
   ]
  },
  {
   "cell_type": "code",
   "execution_count": 11,
   "id": "f5434986-525d-4ad0-b0da-32421a514501",
   "metadata": {},
   "outputs": [
    {
     "data": {
      "text/html": [
       "Query job 99ec5895-a751-4514-ad75-5ee4c93fc62d is DONE. 1.6 GB processed. <a target=\"_blank\" href=\"https://console.cloud.google.com/bigquery?project=data-ana-0&j=bq:US:99ec5895-a751-4514-ad75-5ee4c93fc62d&page=queryresults\">Open Job</a>"
      ],
      "text/plain": [
       "<IPython.core.display.HTML object>"
      ]
     },
     "metadata": {},
     "output_type": "display_data"
    },
    {
     "data": {
      "text/html": [
       "Query job 47eebee7-a9cb-42b6-be55-54e837ec3b64 is DONE. 17 Bytes processed. <a target=\"_blank\" href=\"https://console.cloud.google.com/bigquery?project=data-ana-0&j=bq:US:47eebee7-a9cb-42b6-be55-54e837ec3b64&page=queryresults\">Open Job</a>"
      ],
      "text/plain": [
       "<IPython.core.display.HTML object>"
      ]
     },
     "metadata": {},
     "output_type": "display_data"
    },
    {
     "data": {
      "text/html": [
       "<div>\n",
       "<style scoped>\n",
       "    .dataframe tbody tr th:only-of-type {\n",
       "        vertical-align: middle;\n",
       "    }\n",
       "\n",
       "    .dataframe tbody tr th {\n",
       "        vertical-align: top;\n",
       "    }\n",
       "\n",
       "    .dataframe thead th {\n",
       "        text-align: right;\n",
       "    }\n",
       "</style>\n",
       "<table border=\"1\" class=\"dataframe\">\n",
       "  <thead>\n",
       "    <tr style=\"text-align: right;\">\n",
       "      <th></th>\n",
       "      <th>end_station_name</th>\n",
       "    </tr>\n",
       "  </thead>\n",
       "  <tbody>\n",
       "    <tr>\n",
       "      <th>0</th>\n",
       "      <td>W 52 St &amp; 5 Ave</td>\n",
       "    </tr>\n",
       "  </tbody>\n",
       "</table>\n",
       "<p>1 rows × 1 columns</p>\n",
       "</div>[1 rows x 1 columns in total]"
      ],
      "text/plain": [
       "  end_station_name\n",
       "0  W 52 St & 5 Ave\n",
       "\n",
       "[1 rows x 1 columns]"
      ]
     },
     "execution_count": 11,
     "metadata": {},
     "output_type": "execute_result"
    }
   ],
   "source": [
    "sql_query = \"\"\"\n",
    "SELECT DISTINCT end_station_name\n",
    "FROM `bigquery-public-data.new_york_citibike.citibike_trips`\n",
    "WHERE end_station_id = 520\n",
    "ORDER BY end_station_name\n",
    "\"\"\"\n",
    "df = bpd.read_gbq(sql_query)\n",
    "df"
   ]
  },
  {
   "cell_type": "markdown",
   "id": "473a02f1-1406-487d-ab74-0ee54be239b2",
   "metadata": {},
   "source": [
    "By comparing the \"start_station_id\"/\"start_station_name\" and \"end_station_id\"/\"end_station_name\", we can draw conclusion that the id for the starting stations and the ending stations are from the same indeces."
   ]
  },
  {
   "cell_type": "markdown",
   "id": "d2839c18-f29a-4c75-aa13-4df4dbfd294d",
   "metadata": {},
   "source": [
    "## Exploratory Data Analysis\n",
    "By examining the \"Details\" tab of the `citibike_trips` table from the \"new_york_citibike\" dataset in Bigquery studio, I found that the table consists of:  \n",
    "- 58,937,715 rows in total and it takes 7.47 GB to store.\n",
    "\n",
    "While examining the \"Schema\" tab along with first few entries of the table returned above gives information that the table has:  \n",
    "- 16 columns.\n",
    "\n",
    "each row represents one trip using the citibike including:  \n",
    "- start/end time,  \n",
    "- start/end location,  \n",
    "- bike id,  \n",
    "- user information..."
   ]
  },
  {
   "cell_type": "markdown",
   "id": "b1acff32-10ea-4709-bad5-d7932ce84d28",
   "metadata": {},
   "source": [
    "### Span of time of the entries"
   ]
  },
  {
   "cell_type": "code",
   "execution_count": 7,
   "id": "90026841-0d9b-4bf4-9043-cc8264a98938",
   "metadata": {},
   "outputs": [
    {
     "data": {
      "text/html": [
       "Query job f2d48420-ceb8-4bb9-a9d4-92d5efb1d4e6 is DONE. 424.9 MB processed. <a target=\"_blank\" href=\"https://console.cloud.google.com/bigquery?project=data-ana-0&j=bq:US:f2d48420-ceb8-4bb9-a9d4-92d5efb1d4e6&page=queryresults\">Open Job</a>"
      ],
      "text/plain": [
       "<IPython.core.display.HTML object>"
      ]
     },
     "metadata": {},
     "output_type": "display_data"
    },
    {
     "data": {
      "text/html": [
       "Query job 7184eddf-c0b1-4dbc-8bdc-19fa3ff1ad07 is DONE. 16 Bytes processed. <a target=\"_blank\" href=\"https://console.cloud.google.com/bigquery?project=data-ana-0&j=bq:US:7184eddf-c0b1-4dbc-8bdc-19fa3ff1ad07&page=queryresults\">Open Job</a>"
      ],
      "text/plain": [
       "<IPython.core.display.HTML object>"
      ]
     },
     "metadata": {},
     "output_type": "display_data"
    },
    {
     "data": {
      "text/html": [
       "<div>\n",
       "<style scoped>\n",
       "    .dataframe tbody tr th:only-of-type {\n",
       "        vertical-align: middle;\n",
       "    }\n",
       "\n",
       "    .dataframe tbody tr th {\n",
       "        vertical-align: top;\n",
       "    }\n",
       "\n",
       "    .dataframe thead th {\n",
       "        text-align: right;\n",
       "    }\n",
       "</style>\n",
       "<table border=\"1\" class=\"dataframe\">\n",
       "  <thead>\n",
       "    <tr style=\"text-align: right;\">\n",
       "      <th></th>\n",
       "      <th>earliest_trip</th>\n",
       "      <th>latest_trip</th>\n",
       "    </tr>\n",
       "  </thead>\n",
       "  <tbody>\n",
       "    <tr>\n",
       "      <th>0</th>\n",
       "      <td>2013-07-01 00:00:00</td>\n",
       "      <td>2018-05-31 23:59:59.606000</td>\n",
       "    </tr>\n",
       "  </tbody>\n",
       "</table>\n",
       "<p>1 rows × 2 columns</p>\n",
       "</div>[1 rows x 2 columns in total]"
      ],
      "text/plain": [
       "         earliest_trip                 latest_trip\n",
       "0  2013-07-01 00:00:00  2018-05-31 23:59:59.606000\n",
       "\n",
       "[1 rows x 2 columns]"
      ]
     },
     "execution_count": 7,
     "metadata": {},
     "output_type": "execute_result"
    }
   ],
   "source": [
    "sql_query = \"\"\"\n",
    "SELECT\n",
    "  MIN(starttime) AS earliest_trip,\n",
    "  MAX(starttime) AS latest_trip\n",
    "FROM\n",
    "  `bigquery-public-data.new_york_citibike.citibike_trips`\n",
    "\"\"\"\n",
    "df = bpd.read_gbq(sql_query)\n",
    "df"
   ]
  },
  {
   "cell_type": "markdown",
   "id": "b3f14265-d5b2-4f68-b9cd-bd083852b9b6",
   "metadata": {},
   "source": [
    "By taking the min/max of the starttime column, we know that the entries from the target table starts from July 2013 to May 2018, roughly **5 years**.  \n",
    "If we take the average, there are **11,787,543(10 million) trips recorded every year** and **982,295(1 million) trips recorded each month**."
   ]
  },
  {
   "cell_type": "markdown",
   "id": "606705fb-045a-4fee-87fd-7b7aa331a950",
   "metadata": {},
   "source": [
    "### List of stations\n",
    "*) Since I found the result of SQL query returned by `bigframe` troubled to display the dataframe in order, I use Bigquery UI to run SQL queries in the next sessions and save the results locally for further exploration.\n",
    "\n",
    "**SQL query to get a full list of all unique Citibike stations**  \n",
    "```sql\n",
    "SELECT\n",
    "  station_id,\n",
    "  station_name,\n",
    "  station_latitude,\n",
    "  station_longitude\n",
    "FROM (\n",
    "  SELECT\n",
    "    start_station_id AS station_id,\n",
    "    start_station_name AS station_name,\n",
    "    start_station_latitude AS station_latitude,\n",
    "    start_station_longitude AS station_longitude\n",
    "  FROM `bigquery-public-data.new_york_citibike.citibike_trips`\n",
    "  WHERE start_station_id IS NOT NULL\n",
    "\n",
    "  UNION DISTINCT\n",
    "\n",
    "  SELECT\n",
    "    end_station_id AS station_id,\n",
    "    end_station_name AS station_name,\n",
    "    end_station_latitude AS station_latitude,\n",
    "    end_station_longitude AS station_longitude\n",
    "  FROM `bigquery-public-data.new_york_citibike.citibike_trips`\n",
    "  WHERE end_station_id IS NOT NULL\n",
    ")\n",
    "ORDER BY station_id\n",
    "\n",
    "```"
   ]
  },
  {
   "cell_type": "code",
   "execution_count": 15,
   "id": "68b5076b-61ac-4230-a4e8-28adbf4aa774",
   "metadata": {},
   "outputs": [
    {
     "data": {
      "text/html": [
       "Query job 72065f9b-7103-496b-835f-eeb6fe883a1c is DONE. 424.9 MB processed. <a target=\"_blank\" href=\"https://console.cloud.google.com/bigquery?project=data-ana-0&j=bq:US:72065f9b-7103-496b-835f-eeb6fe883a1c&page=queryresults\">Open Job</a>"
      ],
      "text/plain": [
       "<IPython.core.display.HTML object>"
      ]
     },
     "metadata": {},
     "output_type": "display_data"
    },
    {
     "data": {
      "text/html": [
       "Query job 7e697687-7af5-4525-b3f8-1a4eaa00f6c2 is DONE. 792 Bytes processed. <a target=\"_blank\" href=\"https://console.cloud.google.com/bigquery?project=data-ana-0&j=bq:US:7e697687-7af5-4525-b3f8-1a4eaa00f6c2&page=queryresults\">Open Job</a>"
      ],
      "text/plain": [
       "<IPython.core.display.HTML object>"
      ]
     },
     "metadata": {},
     "output_type": "display_data"
    },
    {
     "data": {
      "text/html": [
       "<div>\n",
       "<style scoped>\n",
       "    .dataframe tbody tr th:only-of-type {\n",
       "        vertical-align: middle;\n",
       "    }\n",
       "\n",
       "    .dataframe tbody tr th {\n",
       "        vertical-align: top;\n",
       "    }\n",
       "\n",
       "    .dataframe thead th {\n",
       "        text-align: right;\n",
       "    }\n",
       "</style>\n",
       "<table border=\"1\" class=\"dataframe\">\n",
       "  <thead>\n",
       "    <tr style=\"text-align: right;\">\n",
       "      <th></th>\n",
       "      <th>start_station_id</th>\n",
       "    </tr>\n",
       "  </thead>\n",
       "  <tbody>\n",
       "    <tr>\n",
       "      <th>0</th>\n",
       "      <td>265</td>\n",
       "    </tr>\n",
       "    <tr>\n",
       "      <th>1</th>\n",
       "      <td>244</td>\n",
       "    </tr>\n",
       "    <tr>\n",
       "      <th>2</th>\n",
       "      <td>143</td>\n",
       "    </tr>\n",
       "    <tr>\n",
       "      <th>3</th>\n",
       "      <td>271</td>\n",
       "    </tr>\n",
       "    <tr>\n",
       "      <th>4</th>\n",
       "      <td>174</td>\n",
       "    </tr>\n",
       "  </tbody>\n",
       "</table>\n",
       "<p>5 rows × 1 columns</p>\n",
       "</div>[5 rows x 1 columns in total]"
      ],
      "text/plain": [
       "   start_station_id\n",
       "0               265\n",
       "1               244\n",
       "2               143\n",
       "3               271\n",
       "4               174\n",
       "\n",
       "[5 rows x 1 columns]"
      ]
     },
     "execution_count": 15,
     "metadata": {},
     "output_type": "execute_result"
    }
   ],
   "source": [
    "sql_query = \"\"\"\n",
    "SELECT DISTINCT start_station_id\n",
    "FROM `bigquery-public-data.new_york_citibike.citibike_trips`\n",
    "ORDER BY start_station_id \n",
    "LIMIT 100\n",
    "\"\"\"\n",
    "df = bpd.read_gbq(sql_query)\n",
    "df.head()"
   ]
  },
  {
   "cell_type": "markdown",
   "id": "870d5a83-e825-4ef2-ba14-5971af5789b5",
   "metadata": {},
   "source": [
    "## Visulization of the Flow between each Stations"
   ]
  }
 ],
 "metadata": {
  "kernelspec": {
   "display_name": "Python (my_env)",
   "language": "python",
   "name": "my_env"
  },
  "language_info": {
   "codemirror_mode": {
    "name": "ipython",
    "version": 3
   },
   "file_extension": ".py",
   "mimetype": "text/x-python",
   "name": "python",
   "nbconvert_exporter": "python",
   "pygments_lexer": "ipython3",
   "version": "3.11.11"
  }
 },
 "nbformat": 4,
 "nbformat_minor": 5
}
